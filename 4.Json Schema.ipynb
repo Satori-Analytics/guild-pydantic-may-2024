{
 "cells": [
  {
   "cell_type": "markdown",
   "metadata": {},
   "source": [
    "# Json Schema"
   ]
  },
  {
   "cell_type": "code",
   "execution_count": null,
   "metadata": {},
   "outputs": [],
   "source": [
    "import datetime\n",
    "import json\n",
    "\n",
    "from pydantic import BaseModel, Field\n",
    "from pydantic.config import ConfigDict"
   ]
  },
  {
   "cell_type": "code",
   "execution_count": null,
   "metadata": {},
   "outputs": [],
   "source": [
    "class Address(BaseModel):\n",
    "    street: str\n",
    "    city: str\n",
    "    zipcode: str\n",
    "\n",
    "\n",
    "class Meeting(BaseModel):\n",
    "\n",
    "    model_config = ConfigDict(title='Meeting Informantions')\n",
    "\n",
    "    where: Address\n",
    "    why: str = 'Kopi thn pita'"
   ]
  },
  {
   "cell_type": "code",
   "execution_count": null,
   "metadata": {},
   "outputs": [],
   "source": [
    "print(json.dumps(Meeting.model_json_schema(), indent=2))"
   ]
  },
  {
   "cell_type": "markdown",
   "metadata": {},
   "source": [
    "## Field Level Customization\n",
    "\n",
    "Optionally, the Field function can be used to provide extra information about the field and validations."
   ]
  },
  {
   "cell_type": "code",
   "execution_count": null,
   "metadata": {},
   "outputs": [],
   "source": [
    "import json\n",
    "\n",
    "from pydantic import BaseModel, EmailStr, Field, SecretStr"
   ]
  },
  {
   "cell_type": "code",
   "execution_count": null,
   "metadata": {},
   "outputs": [],
   "source": [
    "class User(BaseModel):\n",
    "    age: int = Field(description='Age of the user')\n",
    "    email: EmailStr = Field(examples=['vasileios.mpletsos@satoryanalytics.com'])\n",
    "    name: str = Field(title='Username of the user')\n",
    "    password: SecretStr = Field(title='Password',\n",
    "                                description='Password of the user',\n",
    "                                examples=['123456'],\n",
    "                                json_schema_extra={\n",
    "                                    'random_schema_variable_that_i_want_to_use': 'test'\n",
    "                                    }\n",
    "    )"
   ]
  },
  {
   "cell_type": "code",
   "execution_count": null,
   "metadata": {},
   "outputs": [],
   "source": [
    "print(json.dumps(User.model_json_schema(), indent=2))"
   ]
  },
  {
   "cell_type": "markdown",
   "metadata": {},
   "source": [
    "## Model Level Customization\n",
    "\n",
    "You can also use model config to customize JSON schema generation on a model."
   ]
  },
  {
   "cell_type": "code",
   "execution_count": null,
   "metadata": {},
   "outputs": [],
   "source": [
    "from pydantic import ConfigDict"
   ]
  },
  {
   "cell_type": "code",
   "execution_count": null,
   "metadata": {},
   "outputs": [],
   "source": [
    "class User(BaseModel):\n",
    "\n",
    "    model_config = ConfigDict(title='User Informations', \n",
    "                              json_schema_extra={\n",
    "                                  'examples': [{'age': '25', 'email': 'vasileios.mpletsos@satoryanalytics.com', 'name': 'Vasileios Mpletsos', 'password': '123456'}]\n",
    "                                  }\n",
    "                                )\n",
    "\n",
    "    age: int \n",
    "    email: EmailStr \n",
    "    name: str \n",
    "    password: SecretStr"
   ]
  },
  {
   "cell_type": "code",
   "execution_count": null,
   "metadata": {},
   "outputs": [],
   "source": [
    "print(json.dumps(User.model_json_schema(), indent=2))"
   ]
  },
  {
   "cell_type": "markdown",
   "metadata": {},
   "source": [
    "## The use of schema_generator\n",
    "\n",
    "If you need custom schema generation, you can use a schema_generator, modifying the GenerateJsonSchema class as necessary for your application."
   ]
  },
  {
   "cell_type": "code",
   "execution_count": null,
   "metadata": {},
   "outputs": [],
   "source": [
    "from pydantic.json_schema import GenerateJsonSchema"
   ]
  },
  {
   "cell_type": "code",
   "execution_count": null,
   "metadata": {},
   "outputs": [],
   "source": [
    "class MyGenerateJsonSchema(GenerateJsonSchema):\n",
    "    def generate(self, schema, mode='validation'):\n",
    "        json_schema = super().generate(schema, mode=mode)\n",
    "        json_schema['title'] = 'Customized title'\n",
    "        json_schema['age'] = 'The age of the user'\n",
    "        json_schema['email_notes'] = 'The email of the user is given as a ' +  json_schema['properties']['email']['type']\n",
    "        json_schema['$schema'] = self.schema_dialect\n",
    "        return json_schema"
   ]
  },
  {
   "cell_type": "code",
   "execution_count": null,
   "metadata": {},
   "outputs": [],
   "source": [
    "class BaseUser(BaseModel):\n",
    "\n",
    "    age: int \n",
    "    email: EmailStr \n",
    "    name: str \n",
    "    password: SecretStr"
   ]
  },
  {
   "cell_type": "code",
   "execution_count": null,
   "metadata": {},
   "outputs": [],
   "source": [
    "print(json.dumps(BaseUser.model_json_schema(schema_generator=MyGenerateJsonSchema), indent=2))"
   ]
  },
  {
   "cell_type": "markdown",
   "metadata": {},
   "source": [
    "## Start a simple api to see the results"
   ]
  }
 ],
 "metadata": {
  "kernelspec": {
   "display_name": "awesome",
   "language": "python",
   "name": "python3"
  },
  "language_info": {
   "codemirror_mode": {
    "name": "ipython",
    "version": 3
   },
   "file_extension": ".py",
   "mimetype": "text/x-python",
   "name": "python",
   "nbconvert_exporter": "python",
   "pygments_lexer": "ipython3",
   "version": "3.10.13"
  }
 },
 "nbformat": 4,
 "nbformat_minor": 2
}
