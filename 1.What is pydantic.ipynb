{
 "cells": [
  {
   "cell_type": "markdown",
   "metadata": {},
   "source": [
    "# What is pydantic?"
   ]
  },
  {
   "cell_type": "markdown",
   "metadata": {},
   "source": [
    "The base of the Pydantic library is its `BaseModel` class\n",
    "* More simple\n",
    "* Models are highly maintainable\n",
    "* Extensible\n",
    "* Generate **JSON schema**"
   ]
  },
  {
   "cell_type": "code",
   "execution_count": 1,
   "metadata": {},
   "outputs": [],
   "source": [
    "from utils import request_user_intro\n",
    "\n",
    "# Pydantic for data validation\n",
    "from pydantic import BaseModel"
   ]
  },
  {
   "cell_type": "markdown",
   "metadata": {},
   "source": [
    "Now lets define a class that inherits from the BaseModel"
   ]
  },
  {
   "cell_type": "code",
   "execution_count": 2,
   "metadata": {},
   "outputs": [],
   "source": [
    "class Satorian(BaseModel):\n",
    "    name: str\n",
    "    age: int\n",
    "    favourite_drink: str = \"Aperol Spritz\"\n",
    "\n",
    "    def __str__(self):\n",
    "        return f\"My name is {self.name}, I AM A SATORIAN and i like {self.favourite_drink}\""
   ]
  },
  {
   "cell_type": "code",
   "execution_count": 3,
   "metadata": {},
   "outputs": [
    {
     "name": "stdout",
     "output_type": "stream",
     "text": [
      "Hello Kostas, you are 28 years old and your favourite drink is Vodka with lemon\n"
     ]
    }
   ],
   "source": [
    "user1 = Satorian(name=\"Kostas\", age=28, favourite_drink = \"Vodka with lemon\")\n",
    "request_user_intro(user1)"
   ]
  },
  {
   "cell_type": "code",
   "execution_count": 6,
   "metadata": {},
   "outputs": [
    {
     "name": "stdout",
     "output_type": "stream",
     "text": [
      "{'name': 'Kostas', 'age': 28, 'favourite_drink': 'Vodka with lemon'}\n"
     ]
    }
   ],
   "source": [
    "user_dict = user1.model_dump()\n",
    "print(user_dict)"
   ]
  },
  {
   "cell_type": "code",
   "execution_count": null,
   "metadata": {},
   "outputs": [],
   "source": []
  }
 ],
 "metadata": {
  "kernelspec": {
   "display_name": "awesome",
   "language": "python",
   "name": "python3"
  },
  "language_info": {
   "codemirror_mode": {
    "name": "ipython",
    "version": 3
   },
   "file_extension": ".py",
   "mimetype": "text/x-python",
   "name": "python",
   "nbconvert_exporter": "python",
   "pygments_lexer": "ipython3",
   "version": "3.10.13"
  }
 },
 "nbformat": 4,
 "nbformat_minor": 2
}
