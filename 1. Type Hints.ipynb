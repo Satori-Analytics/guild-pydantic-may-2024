{
 "cells": [
  {
   "cell_type": "markdown",
   "metadata": {},
   "source": [
    "### Type hints powering schema validation"
   ]
  },
  {
   "cell_type": "markdown",
   "metadata": {},
   "source": [
    "The schema that Pydantic validates against is generally defined by Python type hints.\n",
    "\n",
    "Using type hints means that Pydantic integrates well with static typing tools like mypy and pyright and IDEs like pycharm and vscode"
   ]
  },
  {
   "cell_type": "code",
   "execution_count": 1,
   "metadata": {},
   "outputs": [
    {
     "data": {
      "text/plain": [
       "Fruit(name='Apple', color='red', weight=4.2, bazam={'foobar': [(1, True, 0.1)]})"
      ]
     },
     "execution_count": 1,
     "metadata": {},
     "output_type": "execute_result"
    }
   ],
   "source": [
    "from typing import Annotated, Dict, List, Literal, Tuple\n",
    "\n",
    "from annotated_types import Gt\n",
    "\n",
    "from pydantic import BaseModel\n",
    "\n",
    "\n",
    "class Fruit(BaseModel):\n",
    "    name: str  \n",
    "    color: Literal['red', 'green']  \n",
    "    weight: Annotated[float, Gt(0)]  \n",
    "    bazam: Dict[str, List[Tuple[int, bool, float]]]  \n",
    "\n",
    "\n",
    "Fruit(name='Apple', color='red', weight=4.2, bazam={'foobar': [(1, True, 0.1)]})"
   ]
  },
  {
   "cell_type": "code",
   "execution_count": 2,
   "metadata": {},
   "outputs": [
    {
     "data": {
      "text/plain": [
       "pydantic._internal._model_construction.ModelMetaclass"
      ]
     },
     "execution_count": 2,
     "metadata": {},
     "output_type": "execute_result"
    }
   ],
   "source": [
    "type(Fruit)"
   ]
  },
  {
   "cell_type": "markdown",
   "metadata": {},
   "source": [
    "#### Supported types"
   ]
  },
  {
   "cell_type": "markdown",
   "metadata": {},
   "source": [
    "Where possible Pydantic uses standard library types to define fields. \n",
    "\n",
    "For many useful applications, however, no standard library type exists, so Pydantic implements many commonly used types.\n",
    "\n",
    "There are also more complex types that can be found in the \"Pydantic Extra Types\" package.\n",
    "\n",
    "If no existing type suits your purpose you can also implement your own Pydantic-compatible types with custom properties and validation."
   ]
  },
  {
   "cell_type": "markdown",
   "metadata": {},
   "source": [
    "##### Standard Library Types"
   ]
  },
  {
   "cell_type": "markdown",
   "metadata": {},
   "source": [
    "###### Booleans"
   ]
  },
  {
   "cell_type": "markdown",
   "metadata": {},
   "source": [
    " A standard bool field will raise a ValidationError if the value is not one of the following:\n",
    "\n",
    "- A valid `boolean` (i.e. True or False),\n",
    "- The integers 0 or 1,\n",
    "- a `str` which when converted to lower case is one of '0', 'off', 'f', 'false', 'n', 'no', '1', 'on', 't', 'true', 'y', 'yes',\n",
    "- a `bytes` which is valid per the previous rule when decoded to `str`"
   ]
  },
  {
   "cell_type": "code",
   "execution_count": 3,
   "metadata": {},
   "outputs": [
    {
     "name": "stdout",
     "output_type": "stream",
     "text": [
      "bool_value=False\n",
      "bool_value=False\n",
      "bool_value=True\n",
      "1 validation error for BooleanModel\n",
      "bool_value\n",
      "  Input should be a valid boolean, unable to interpret input [type=bool_parsing, input_value='of', input_type=str]\n",
      "    For further information visit https://errors.pydantic.dev/2.6/v/bool_parsing\n"
     ]
    }
   ],
   "source": [
    "from pydantic import BaseModel, ValidationError\n",
    "\n",
    "\n",
    "class BooleanModel(BaseModel):\n",
    "    bool_value: bool\n",
    "\n",
    "\n",
    "print(BooleanModel(bool_value=False))\n",
    "\n",
    "print(BooleanModel(bool_value='False'))\n",
    "\n",
    "print(BooleanModel(bool_value=1))\n",
    "\n",
    "try:\n",
    "    BooleanModel(bool_value='of')\n",
    "except ValidationError as e:\n",
    "    print(str(e))"
   ]
  },
  {
   "cell_type": "markdown",
   "metadata": {},
   "source": [
    "###### Datetime Types\n",
    "- datetime.datetime\n",
    "- datetime.date\n",
    "- datetime.time\n",
    "- datetime.timedelta"
   ]
  },
  {
   "cell_type": "code",
   "execution_count": 4,
   "metadata": {},
   "outputs": [
    {
     "name": "stdout",
     "output_type": "stream",
     "text": [
      "dt=datetime.datetime(2032, 4, 23, 10, 20, 30, 400000, tzinfo=TzInfo(+02:30))\n"
     ]
    }
   ],
   "source": [
    "from datetime import datetime\n",
    "\n",
    "from pydantic import BaseModel\n",
    "\n",
    "\n",
    "class Event(BaseModel):\n",
    "    dt: datetime = None\n",
    "\n",
    "\n",
    "event = Event(dt='2032-04-23T10:20:30.400+02:30')\n",
    "print(event)"
   ]
  },
  {
   "cell_type": "markdown",
   "metadata": {
    "jp-MarkdownHeadingCollapsed": true
   },
   "source": [
    "###### Number types\n",
    "- int\n",
    "- float\n",
    "- enum.IntEnum\n",
    "- decimal.Decimal\n",
    "- Enum\n"
   ]
  },
  {
   "cell_type": "markdown",
   "metadata": {},
   "source": [
    "###### Lists and Tuples\n",
    "- list\n",
    "- typing.List\n",
    "- tuple\n",
    "- typing.Tuple\n",
    "- typing.NamedTuple"
   ]
  },
  {
   "cell_type": "code",
   "execution_count": 5,
   "metadata": {},
   "outputs": [
    {
     "name": "stdout",
     "output_type": "stream",
     "text": [
      "1 validation error for Model\n",
      "p.0\n",
      "  Input should be a valid integer, unable to parse string as an integer [type=int_parsing, input_value='1.3', input_type=str]\n",
      "    For further information visit https://errors.pydantic.dev/2.6/v/int_parsing\n"
     ]
    }
   ],
   "source": [
    "from typing import NamedTuple\n",
    "\n",
    "from pydantic import BaseModel, ValidationError\n",
    "\n",
    "\n",
    "class Point(NamedTuple):\n",
    "    x: int\n",
    "    y: int\n",
    "\n",
    "\n",
    "class Model(BaseModel):\n",
    "    p: Point\n",
    "\n",
    "\n",
    "try:\n",
    "    Model(p=('1.3', '2'))\n",
    "except ValidationError as e:\n",
    "    print(e)"
   ]
  },
  {
   "cell_type": "markdown",
   "metadata": {},
   "source": [
    "###### For more information of standard Library Types (https://docs.pydantic.dev/latest/api/standard_library_types/)"
   ]
  },
  {
   "cell_type": "markdown",
   "metadata": {},
   "source": [
    "##### Pydantic types"
   ]
  },
  {
   "cell_type": "markdown",
   "metadata": {},
   "source": [
    "###### Strict Types\n",
    "Pydantic provides the following strict types, among others:\n",
    "\n",
    "- StrictBool\n",
    "- StrictBytes\n",
    "- StrictFloat\n",
    "- StrictInt\n",
    "- StrictStr\n",
    "- \n",
    "These types will only pass validation when the validated value is of the respective type or is a subtype of that type."
   ]
  },
  {
   "cell_type": "markdown",
   "metadata": {},
   "source": [
    "**StrictFloat = Annotated[float, Strict(True)]**"
   ]
  },
  {
   "cell_type": "code",
   "execution_count": 6,
   "metadata": {},
   "outputs": [
    {
     "name": "stdout",
     "output_type": "stream",
     "text": [
      "1 validation error for StrictFloatModel\n",
      "strict_float\n",
      "  Input should be a valid number [type=float_type, input_value='1.0', input_type=str]\n",
      "    For further information visit https://errors.pydantic.dev/2.6/v/float_type\n"
     ]
    }
   ],
   "source": [
    "from pydantic import BaseModel, StrictFloat, ValidationError\n",
    "\n",
    "class StrictFloatModel(BaseModel):\n",
    "    strict_float: StrictFloat\n",
    "\n",
    "try:\n",
    "    StrictFloatModel(strict_float='1.0')\n",
    "except ValidationError as e:\n",
    "    print(e)"
   ]
  },
  {
   "cell_type": "markdown",
   "metadata": {},
   "source": [
    "**PositiveInt = Annotated[int, Gt(0)]**"
   ]
  },
  {
   "cell_type": "code",
   "execution_count": 7,
   "metadata": {},
   "outputs": [
    {
     "name": "stdout",
     "output_type": "stream",
     "text": [
      "Model(positive_int=1)\n",
      "[{'type': 'greater_than', 'loc': ('positive_int',), 'msg': 'Input should be greater than 0', 'input': -1, 'ctx': {'gt': 0}, 'url': 'https://errors.pydantic.dev/2.6/v/greater_than'}]\n"
     ]
    }
   ],
   "source": [
    "from pydantic import BaseModel, PositiveInt, ValidationError\n",
    "\n",
    "class Model(BaseModel):\n",
    "    positive_int: PositiveInt\n",
    "\n",
    "m = Model(positive_int=1)\n",
    "print(repr(m))\n",
    "#> Model(positive_int=1)\n",
    "\n",
    "try:\n",
    "    Model(positive_int=-1)\n",
    "except ValidationError as e:\n",
    "    print(e.errors())"
   ]
  },
  {
   "cell_type": "markdown",
   "metadata": {},
   "source": [
    "###### For more information of Pyndatic types (https://docs.pydantic.dev/latest/api/types/)"
   ]
  },
  {
   "cell_type": "markdown",
   "metadata": {},
   "source": [
    "##### Custom types"
   ]
  },
  {
   "cell_type": "markdown",
   "metadata": {},
   "source": [
    "Annotated is as a way to attach runtime metadata to types without changing how type checkers interpret them. Pydantic takes advantage of this to allow you to create types that are identical to the original type as far as type checkers are concerned, but add validation, serialize differently, etc."
   ]
  },
  {
   "cell_type": "code",
   "execution_count": 8,
   "metadata": {},
   "outputs": [
    {
     "name": "stdout",
     "output_type": "stream",
     "text": [
      "1 validation error for constrained-int\n",
      "  Input should be greater than 5 [type=greater_than, input_value=4, input_type=int]\n",
      "    For further information visit https://errors.pydantic.dev/2.6/v/greater_than\n"
     ]
    }
   ],
   "source": [
    "from typing_extensions import Annotated\n",
    "\n",
    "from pydantic import Field, TypeAdapter, ValidationError\n",
    "\n",
    "CustomInt = Annotated[int, Field(gt=5)]\n",
    "\n",
    "ta = TypeAdapter(CustomInt)\n",
    "\n",
    "try:\n",
    "    ta.validate_python(4)\n",
    "except ValidationError as exc:\n",
    "    print(exc)"
   ]
  },
  {
   "cell_type": "code",
   "execution_count": null,
   "metadata": {},
   "outputs": [],
   "source": []
  }
 ],
 "metadata": {
  "kernelspec": {
   "display_name": "Python 3 (ipykernel)",
   "language": "python",
   "name": "python3"
  },
  "language_info": {
   "codemirror_mode": {
    "name": "ipython",
    "version": 3
   },
   "file_extension": ".py",
   "mimetype": "text/x-python",
   "name": "python",
   "nbconvert_exporter": "python",
   "pygments_lexer": "ipython3",
   "version": "3.9.19"
  }
 },
 "nbformat": 4,
 "nbformat_minor": 4
}
