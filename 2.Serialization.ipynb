{
 "cells": [
  {
   "cell_type": "markdown",
   "metadata": {},
   "source": [
    "# Serialization Walkthrough"
   ]
  },
  {
   "cell_type": "code",
   "execution_count": 73,
   "metadata": {},
   "outputs": [],
   "source": [
    "from datetime import datetime\n",
    "from pydantic import BaseModel, Json\n",
    "from typing import Any, List"
   ]
  },
  {
   "cell_type": "markdown",
   "metadata": {},
   "source": [
    "Now lets define a class that inherits from the BaseModel"
   ]
  },
  {
   "cell_type": "code",
   "execution_count": 74,
   "metadata": {},
   "outputs": [],
   "source": [
    "class Location(BaseModel):\n",
    "    lat: float\n",
    "    lon: float\n",
    "\n",
    "class Meeting(BaseModel):\n",
    "    when: datetime\n",
    "    where: str = 'Satori Athens Offices'\n",
    "    why: str = 'Party'\n",
    "    location: Location\n",
    "\n",
    "class ListJson(BaseModel):\n",
    "    jsn_list: List[Json[Any]]"
   ]
  },
  {
   "cell_type": "code",
   "execution_count": 75,
   "metadata": {},
   "outputs": [],
   "source": [
    "location = Location(lat=37.9838, lon=23.7275)\n",
    "meet = Meeting(when='2020-01-01T12:00', where='Satori Offices', location=location)"
   ]
  },
  {
   "cell_type": "code",
   "execution_count": 96,
   "metadata": {},
   "outputs": [],
   "source": [
    "json_list = ListJson(jsn_list=['{\"a\": 1}', '{\"b\": 2}'])"
   ]
  },
  {
   "cell_type": "markdown",
   "metadata": {},
   "source": [
    "## To dict"
   ]
  },
  {
   "cell_type": "code",
   "execution_count": 79,
   "metadata": {},
   "outputs": [],
   "source": [
    "# Simple as that to convert it to a python dict\n",
    "value = dict(location)"
   ]
  },
  {
   "cell_type": "markdown",
   "metadata": {},
   "source": [
    "## model_dump & model_dump_...."
   ]
  },
  {
   "cell_type": "code",
   "execution_count": 85,
   "metadata": {},
   "outputs": [
    {
     "data": {
      "text/plain": [
       "{'when': datetime.datetime(2020, 1, 1, 12, 0),\n",
       " 'where': 'Satori Offices',\n",
       " 'location': {'lat': 37.9838, 'lon': 23.7275}}"
      ]
     },
     "execution_count": 85,
     "metadata": {},
     "output_type": "execute_result"
    }
   ],
   "source": [
    "meet.model_dump(exclude_unset=True)"
   ]
  },
  {
   "cell_type": "code",
   "execution_count": 64,
   "metadata": {},
   "outputs": [
    {
     "data": {
      "text/plain": [
       "{'when': datetime.datetime(2020, 1, 1, 12, 0),\n",
       " 'where': 'home',\n",
       " 'why': 'Party',\n",
       " 'location': {'lat': 37.9838, 'lon': 23.7275}}"
      ]
     },
     "execution_count": 64,
     "metadata": {},
     "output_type": "execute_result"
    }
   ],
   "source": [
    "# Here we get the why field as well but it was not set\n",
    "meet.model_dump()"
   ]
  },
  {
   "cell_type": "code",
   "execution_count": 86,
   "metadata": {},
   "outputs": [
    {
     "name": "stdout",
     "output_type": "stream",
     "text": [
      "{\"when\":\"2020-01-01T12:00:00\",\"where\":\"Satori Offices\",\"why\":\"Party\",\"location\":{\"lat\":37.9838,\"lon\":23.7275}}\n"
     ]
    }
   ],
   "source": [
    "# If you want to present the data directly into the app\n",
    "print(meet.model_dump_json())"
   ]
  },
  {
   "cell_type": "code",
   "execution_count": 87,
   "metadata": {},
   "outputs": [
    {
     "name": "stdout",
     "output_type": "stream",
     "text": [
      "{\n",
      "  \"when\": \"2020-01-01T12:00:00\",\n",
      "  \"where\": \"Satori Offices\",\n",
      "  \"why\": \"Party\",\n",
      "  \"location\": {\n",
      "    \"lat\": 37.9838,\n",
      "    \"lon\": 23.7275\n",
      "  }\n",
      "}\n"
     ]
    }
   ],
   "source": [
    "print(meet.model_dump_json(indent=2))"
   ]
  },
  {
   "cell_type": "code",
   "execution_count": 89,
   "metadata": {},
   "outputs": [
    {
     "name": "stdout",
     "output_type": "stream",
     "text": [
      "when --> 2020-01-01 12:00:00\n",
      "where --> Satori Offices\n",
      "why --> Party\n",
      "location --> lat=37.9838 lon=23.7275\n"
     ]
    }
   ],
   "source": [
    "# for field_name, field_value in model also works in pydantic but sub-models will not be converted to dictionaries\n",
    "for field_name, field_value in meet:\n",
    "    print(field_name, \"-->\", field_value)"
   ]
  },
  {
   "cell_type": "code",
   "execution_count": 92,
   "metadata": {},
   "outputs": [
    {
     "data": {
      "text/plain": [
       "{'when': '2020-01-01T12:00:00',\n",
       " 'why': 'Party',\n",
       " 'location': {'lat': 37.9838, 'lon': 23.7275}}"
      ]
     },
     "execution_count": 92,
     "metadata": {},
     "output_type": "execute_result"
    }
   ],
   "source": [
    "# Make the call appropriate for JSON serialization to be sent in the database\n",
    "meet.model_dump(exclude={'where'}, mode='json')"
   ]
  },
  {
   "cell_type": "code",
   "execution_count": 94,
   "metadata": {},
   "outputs": [
    {
     "name": "stdout",
     "output_type": "stream",
     "text": [
      "{\"when\":\"2020-01-01T12:00:00\",\"where\":\"Satori Offices\"}\n"
     ]
    }
   ],
   "source": [
    "# Or directly select what will be sent with include\n",
    "print(meet.model_dump_json(include={'when', 'where'}))"
   ]
  },
  {
   "cell_type": "code",
   "execution_count": 98,
   "metadata": {},
   "outputs": [
    {
     "data": {
      "text/plain": [
       "{'jsn_list': [{'a': 1}, {'b': 2}]}"
      ]
     },
     "execution_count": 98,
     "metadata": {},
     "output_type": "execute_result"
    }
   ],
   "source": [
    "# Serialize the json list\n",
    "json_list.model_dump()"
   ]
  },
  {
   "cell_type": "code",
   "execution_count": 99,
   "metadata": {},
   "outputs": [
    {
     "data": {
      "text/plain": [
       "{'jsn_list': ['{\"a\":1}', '{\"b\":2}']}"
      ]
     },
     "execution_count": 99,
     "metadata": {},
     "output_type": "execute_result"
    }
   ],
   "source": [
    "# Indicates that the serialization process should preserve the format of the original input data as closely as possible.\n",
    "json_list.model_dump(round_trip=True)"
   ]
  },
  {
   "cell_type": "markdown",
   "metadata": {},
   "source": [
    "## Custom Serializers"
   ]
  },
  {
   "cell_type": "code",
   "execution_count": 100,
   "metadata": {},
   "outputs": [],
   "source": [
    "# All the available custom serializers in pydantic\n",
    "from pydantic import BaseModel, field_serializer, model_serializer, PlainSerializer, WrapSerializer\n",
    "\n",
    "from typing import Set, Literal, List, Any, Dict\n",
    "from typing_extensions import Annotated\n",
    "import numpy as np\n",
    "from datetime import datetime, timezone"
   ]
  },
  {
   "cell_type": "markdown",
   "metadata": {},
   "source": [
    "### field_serializer\n",
    "\n",
    "Decorator that enables **custom field serialization**."
   ]
  },
  {
   "cell_type": "code",
   "execution_count": 101,
   "metadata": {},
   "outputs": [
    {
     "name": "stdout",
     "output_type": "stream",
     "text": [
      "{\n",
      "    \"name\": \"John Doe\",\n",
      "    \"favouite_drinks\": [\n",
      "        \"Aperol Spritz\",\n",
      "        \"Margarita\",\n",
      "        \"Martini\",\n",
      "        \"Negroni\",\n",
      "        \"Old Fashioned\",\n",
      "        \"Tom Collins\"\n",
      "    ]\n",
      "}\n"
     ]
    }
   ],
   "source": [
    "class Satorian(BaseModel):\n",
    "    name: str = 'John Doe'\n",
    "    favouite_drinks: Set[str]\n",
    "\n",
    "    @field_serializer('favouite_drinks')\n",
    "    def serialize_favourite_drinks_with_alphabetical_order(favouite_drinks: Set[str]):\n",
    "        return sorted(favouite_drinks)\n",
    "\n",
    "employee = Satorian(favouite_drinks={'Old Fashioned', 'Aperol Spritz', 'Negroni', 'Tom Collins', 'Martini','Margarita'})\n",
    "print(employee.model_dump_json(indent=4))"
   ]
  },
  {
   "cell_type": "markdown",
   "metadata": {},
   "source": [
    "### model_serializer\n",
    "\n",
    "Decorator that enables **custom model serialization**. \n",
    "This is useful when a model need to be serialized in a customized manner, allowing for flexibility beyond just specific fields."
   ]
  },
  {
   "cell_type": "code",
   "execution_count": 102,
   "metadata": {},
   "outputs": [],
   "source": [
    "class PizzaModel(BaseModel):\n",
    "    unit: Literal['diameter', 'circumference', 'radius', 'area']\n",
    "    value: float\n",
    "\n",
    "    @model_serializer()\n",
    "    def serialize_pizza_model(self):\n",
    "        if self.unit == 'circumference':\n",
    "            return {'unit': 'diameter', 'value': self.value / np.pi}\n",
    "        if self.unit == 'radius':\n",
    "            return {'unit': 'diameter', 'value': self.value * 2}\n",
    "        if self.unit == 'area':\n",
    "            return {'unit': 'diameter', 'value': 2 * np.sqrt(self.value / np.pi)}\n",
    "        return {'unit': self.unit, 'value': self.value}"
   ]
  },
  {
   "cell_type": "code",
   "execution_count": 103,
   "metadata": {},
   "outputs": [
    {
     "name": "stdout",
     "output_type": "stream",
     "text": [
      "{\n",
      "  \"unit\": \"diameter\",\n",
      "  \"value\": 6.383076486422923\n",
      "}\n"
     ]
    }
   ],
   "source": [
    "pizza = PizzaModel(unit='area', value=32)\n",
    "print(pizza.model_dump_json(indent=2))"
   ]
  },
  {
   "cell_type": "markdown",
   "metadata": {},
   "source": [
    "### PlainSerializer \n",
    "\n",
    "Plain serializers is a wrapper that **use a function to modify the output** of serialization."
   ]
  },
  {
   "cell_type": "code",
   "execution_count": 104,
   "metadata": {},
   "outputs": [
    {
     "name": "stdout",
     "output_type": "stream",
     "text": [
      "{\n",
      "  \"order_list\": \"Old Fashioned, Aperol Spritz, Negroni, Tom Collins, Pizza for newcomers, Feyrouz\"\n",
      "}\n"
     ]
    }
   ],
   "source": [
    "CustomString = Annotated[List, PlainSerializer(lambda x: ', '.join(x), return_type=str)]\n",
    "\n",
    "class SatoriansOrder(BaseModel):\n",
    "    order_list: CustomString\n",
    "\n",
    "order = SatoriansOrder(order_list=['Old Fashioned', 'Aperol Spritz', 'Negroni', 'Tom Collins', 'Pizza for newcomers', 'Feyrouz'])\n",
    "print(order.model_dump_json(indent=2))"
   ]
  },
  {
   "cell_type": "markdown",
   "metadata": {},
   "source": [
    "### WrapSerializer \n",
    "\n",
    "Wrap serializer **receive the raw input along with a handler function that applies the standard serialization logic**, and can modify the resulting value before returning it as the final output of serialization."
   ]
  },
  {
   "cell_type": "code",
   "execution_count": 105,
   "metadata": {},
   "outputs": [],
   "source": [
    "class SatoriEventDatetime(BaseModel):\n",
    "    start: datetime\n",
    "    end: datetime\n",
    "\n",
    "def convert_to_utc(value: Any, handler, info) -> Dict[str, datetime]:\n",
    "    partial_result = handler(value, info)\n",
    "    if info.mode == 'json':\n",
    "        return {\n",
    "            k: datetime.fromisoformat(v).astimezone(timezone.utc) for k, v in partial_result.items()\n",
    "        }\n",
    "    return {k: v.astimezone(timezone.utc) for k, v in partial_result.items()}"
   ]
  },
  {
   "cell_type": "code",
   "execution_count": 106,
   "metadata": {},
   "outputs": [
    {
     "name": "stdout",
     "output_type": "stream",
     "text": [
      "{'event_datetime': {'start': datetime.datetime(2024, 4, 4, 13, 0, tzinfo=datetime.timezone.utc), 'end': datetime.datetime(2024, 4, 3, 15, 0, tzinfo=datetime.timezone.utc)}}\n"
     ]
    }
   ],
   "source": [
    "UTCEventDatetime = Annotated[SatoriEventDatetime, WrapSerializer(convert_to_utc)]\n",
    "\n",
    "class EventModel(BaseModel):\n",
    "    event_datetime: UTCEventDatetime\n",
    "\n",
    "satori_event_time = SatoriEventDatetime(\n",
    "    start='2024-04-04T15:00:00+02:00', end='2024-04-03T17:00:00+02:00'\n",
    ")\n",
    "event = EventModel(event_datetime=satori_event_time)\n",
    "print(event.model_dump())"
   ]
  },
  {
   "cell_type": "code",
   "execution_count": 107,
   "metadata": {},
   "outputs": [
    {
     "name": "stdout",
     "output_type": "stream",
     "text": [
      "Event time in UTC so mark will know:\n",
      "{\n",
      "  \"event_datetime\": {\n",
      "    \"start\": \"2024-04-04T13:00:00Z\",\n",
      "    \"end\": \"2024-04-03T15:00:00Z\"\n",
      "  }\n",
      "}\n"
     ]
    }
   ],
   "source": [
    "print(\"Event time in UTC so Mark will know:\")\n",
    "print(event.model_dump_json(indent=2))"
   ]
  },
  {
   "cell_type": "markdown",
   "metadata": {},
   "source": [
    "## Pickle works!"
   ]
  },
  {
   "cell_type": "code",
   "execution_count": 118,
   "metadata": {},
   "outputs": [],
   "source": [
    "import pickle"
   ]
  },
  {
   "cell_type": "code",
   "execution_count": 119,
   "metadata": {},
   "outputs": [
    {
     "data": {
      "text/plain": [
       "b'\\x80\\x04\\x95\\x0f\\x01\\x00\\x00\\x00\\x00\\x00\\x00\\x8c\\x08__main__\\x94\\x8c\\x13SatoriEventDatetime\\x94\\x93\\x94)\\x81\\x94}\\x94(\\x8c\\x08__dict__\\x94}\\x94(\\x8c\\x05start\\x94\\x8c\\x08datetime\\x94\\x8c\\x08datetime\\x94\\x93\\x94C\\n\\x07\\xe8\\x04\\x04\\x0f\\x00\\x00\\x00\\x00\\x00\\x94\\x8c\\x1cpydantic_core._pydantic_core\\x94\\x8c\\x06TzInfo\\x94\\x93\\x94M \\x1c\\x85\\x94R\\x94\\x86\\x94R\\x94\\x8c\\x03end\\x94h\\nC\\n\\x07\\xe8\\x04\\x03\\x11\\x00\\x00\\x00\\x00\\x00\\x94h\\x0eM \\x1c\\x85\\x94R\\x94\\x86\\x94R\\x94u\\x8c\\x12__pydantic_extra__\\x94N\\x8c\\x17__pydantic_fields_set__\\x94\\x8f\\x94(h\\x13h\\x07\\x90\\x8c\\x14__pydantic_private__\\x94Nub.'"
      ]
     },
     "execution_count": 119,
     "metadata": {},
     "output_type": "execute_result"
    }
   ],
   "source": [
    "data = pickle.dumps(satori_event_time)\n",
    "data"
   ]
  },
  {
   "cell_type": "code",
   "execution_count": 120,
   "metadata": {},
   "outputs": [
    {
     "name": "stdout",
     "output_type": "stream",
     "text": [
      "{\n",
      "  \"start\": \"2024-04-04T15:00:00+02:00\",\n",
      "  \"end\": \"2024-04-03T17:00:00+02:00\"\n",
      "}\n"
     ]
    }
   ],
   "source": [
    "retreived_event_data = pickle.loads(data)\n",
    "print(retreived_event_data.model_dump_json(indent=2))"
   ]
  }
 ],
 "metadata": {
  "kernelspec": {
   "display_name": "awesome",
   "language": "python",
   "name": "python3"
  },
  "language_info": {
   "codemirror_mode": {
    "name": "ipython",
    "version": 3
   },
   "file_extension": ".py",
   "mimetype": "text/x-python",
   "name": "python",
   "nbconvert_exporter": "python",
   "pygments_lexer": "ipython3",
   "version": "3.10.13"
  }
 },
 "nbformat": 4,
 "nbformat_minor": 2
}
