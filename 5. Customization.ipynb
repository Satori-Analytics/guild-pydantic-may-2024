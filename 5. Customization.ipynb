{
 "cells": [
  {
   "cell_type": "markdown",
   "metadata": {},
   "source": [
    "# Customization"
   ]
  },
  {
   "cell_type": "code",
   "execution_count": 1,
   "metadata": {},
   "outputs": [],
   "source": [
    "from datetime import datetime, timezone\n",
    "from pydantic import BaseModel, field_validator"
   ]
  },
  {
   "cell_type": "code",
   "execution_count": 8,
   "metadata": {},
   "outputs": [],
   "source": [
    "class Meeting(BaseModel):\n",
    "    when: datetime\n",
    "\n",
    "    @field_validator('when', mode='wrap')\n",
    "    def when_now(cls, input_value, handler):\n",
    "        # If inputs is 'now' return the current time\n",
    "        if input_value == 'now':\n",
    "            return datetime.now()\n",
    "        # else pass the value to the handler\n",
    "        when = handler(input_value)\n",
    "        return when\n"
   ]
  },
  {
   "cell_type": "code",
   "execution_count": 15,
   "metadata": {},
   "outputs": [
    {
     "name": "stdout",
     "output_type": "stream",
     "text": [
      "when=datetime.datetime(2020, 1, 1, 12, 0, tzinfo=TzInfo(+02:00))\n"
     ]
    }
   ],
   "source": [
    "print(Meeting(when='2020-01-01T12:00+02:00'))"
   ]
  },
  {
   "cell_type": "code",
   "execution_count": 16,
   "metadata": {},
   "outputs": [
    {
     "name": "stdout",
     "output_type": "stream",
     "text": [
      "when=datetime.datetime(2024, 4, 1, 20, 41, 35, 326871)\n"
     ]
    }
   ],
   "source": [
    "print(Meeting(when='now'))"
   ]
  },
  {
   "cell_type": "markdown",
   "metadata": {},
   "source": [
    "## Validators with Annotated"
   ]
  },
  {
   "cell_type": "code",
   "execution_count": 79,
   "metadata": {},
   "outputs": [],
   "source": [
    "import json\n",
    "from typing import Any, List, Annotated\n",
    "from pydantic import ValidatorFunctionWrapHandler, ValidationInfo, ValidationError\n",
    "from pydantic.functional_validators import AfterValidator, BeforeValidator, WrapValidator"
   ]
  },
  {
   "cell_type": "code",
   "execution_count": 70,
   "metadata": {},
   "outputs": [],
   "source": [
    "def check_squares(v: int) -> int:\n",
    "    assert v**0.5 % 1 == 0, f'{v} is not a square number'\n",
    "    return v\n",
    "\n",
    "\n",
    "def double(v: Any) -> Any:\n",
    "    return v * 2"
   ]
  },
  {
   "cell_type": "code",
   "execution_count": 71,
   "metadata": {},
   "outputs": [],
   "source": [
    "# First we calculate the double and then the result of double goes in the check_squares\n",
    "MyNumber = Annotated[int, AfterValidator(double), AfterValidator(check_squares)]"
   ]
  },
  {
   "cell_type": "code",
   "execution_count": 72,
   "metadata": {},
   "outputs": [],
   "source": [
    "class DemoModel(BaseModel):\n",
    "    number: List[MyNumber]"
   ]
  },
  {
   "cell_type": "code",
   "execution_count": 73,
   "metadata": {},
   "outputs": [
    {
     "name": "stdout",
     "output_type": "stream",
     "text": [
      "number=[4, 16]\n"
     ]
    }
   ],
   "source": [
    "print(DemoModel(number=[2, 8]))"
   ]
  },
  {
   "cell_type": "markdown",
   "metadata": {},
   "source": [
    "Wrap Validator"
   ]
  },
  {
   "cell_type": "code",
   "execution_count": 75,
   "metadata": {},
   "outputs": [],
   "source": [
    "def maybe_strip_whitespace(\n",
    "    v: Any, handler: ValidatorFunctionWrapHandler, info: ValidationInfo\n",
    ") -> int:\n",
    "    if info.mode == 'json':\n",
    "        assert isinstance(v, str), 'In JSON mode the input must be a string!'\n",
    "        # you can call the handler multiple times\n",
    "        try:\n",
    "            return handler(v)\n",
    "        except ValidationError:\n",
    "            return handler(v.strip())\n",
    "    assert info.mode == 'python'\n",
    "    assert isinstance(v, int), 'In Python mode the input must be an int!'\n",
    "    # do no further validation\n",
    "    return v"
   ]
  },
  {
   "cell_type": "code",
   "execution_count": 76,
   "metadata": {},
   "outputs": [],
   "source": [
    "MyNumber = Annotated[int, WrapValidator(maybe_strip_whitespace)]"
   ]
  },
  {
   "cell_type": "code",
   "execution_count": 77,
   "metadata": {},
   "outputs": [],
   "source": [
    "class DemoModel(BaseModel):\n",
    "    number: List[MyNumber]"
   ]
  },
  {
   "cell_type": "code",
   "execution_count": 78,
   "metadata": {},
   "outputs": [
    {
     "name": "stdout",
     "output_type": "stream",
     "text": [
      "number=[2, 8]\n"
     ]
    }
   ],
   "source": [
    "print(DemoModel(number=[2, 8]))"
   ]
  },
  {
   "cell_type": "code",
   "execution_count": 80,
   "metadata": {},
   "outputs": [
    {
     "name": "stdout",
     "output_type": "stream",
     "text": [
      "number=[2, 8]\n"
     ]
    }
   ],
   "source": [
    "print(DemoModel.model_validate_json(json.dumps({'number': [' 2 ', '8']})))"
   ]
  },
  {
   "cell_type": "markdown",
   "metadata": {},
   "source": [
    "Field Validator & Model Validator"
   ]
  },
  {
   "cell_type": "code",
   "execution_count": 135,
   "metadata": {},
   "outputs": [],
   "source": [
    "from pydantic import field_validator, model_validator\n",
    "from typing import Union"
   ]
  },
  {
   "cell_type": "code",
   "execution_count": 137,
   "metadata": {},
   "outputs": [],
   "source": [
    "class UserModel(BaseModel):\n",
    "    name: str\n",
    "    id: int\n",
    "    password1: str\n",
    "    password2: str\n",
    "\n",
    "    @field_validator('name')\n",
    "    @classmethod\n",
    "    def name_must_contain_space(cls, v: str) -> str:\n",
    "        if ' ' not in v:\n",
    "            raise ValueError('must contain a space')\n",
    "        return v.title()\n",
    "\n",
    "    # you can select multiple fields, or use '*' to select all fields\n",
    "    @field_validator('id')\n",
    "    @classmethod\n",
    "    def check_alphanumeric(cls, v: int) -> int:\n",
    "        if v > 10:\n",
    "            if v % 2 == 0:\n",
    "                raise ValueError('must be odd')\n",
    "        return v\n",
    "    \n",
    "    @model_validator(mode='before')\n",
    "    @classmethod\n",
    "    def check_passwords_match(cls, data):\n",
    "        if data['password1'] != data['password2']:\n",
    "            raise ValueError('passwords do not match')\n",
    "        return data\n"
   ]
  },
  {
   "cell_type": "code",
   "execution_count": 139,
   "metadata": {},
   "outputs": [
    {
     "name": "stdout",
     "output_type": "stream",
     "text": [
      "name='Vasilis Mpletsos' id=10 password1='1234' password2='1234'\n"
     ]
    }
   ],
   "source": [
    "print(UserModel(name='Vasilis Mpletsos', id=10, password1='1234', password2='1234'))"
   ]
  }
 ],
 "metadata": {
  "kernelspec": {
   "display_name": "awesome",
   "language": "python",
   "name": "python3"
  },
  "language_info": {
   "codemirror_mode": {
    "name": "ipython",
    "version": 3
   },
   "file_extension": ".py",
   "mimetype": "text/x-python",
   "name": "python",
   "nbconvert_exporter": "python",
   "pygments_lexer": "ipython3",
   "version": "3.10.13"
  }
 },
 "nbformat": 4,
 "nbformat_minor": 2
}
