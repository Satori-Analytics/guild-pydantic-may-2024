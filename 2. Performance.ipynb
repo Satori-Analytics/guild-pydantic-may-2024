{
 "cells": [
  {
   "cell_type": "markdown",
   "metadata": {},
   "source": [
    "#### Performance"
   ]
  },
  {
   "cell_type": "markdown",
   "metadata": {},
   "source": [
    "In the following example, Pydantic is >300% faster than dedicated code when parsing JSON and validating URLs."
   ]
  },
  {
   "cell_type": "code",
   "execution_count": 1,
   "metadata": {},
   "outputs": [
    {
     "name": "stdout",
     "output_type": "stream",
     "text": [
      "pure python: 12.71ms\n",
      "pydantic: 3.52ms\n",
      "Pydantic 3.61x faster\n"
     ]
    }
   ],
   "source": [
    "import json\n",
    "import timeit\n",
    "from urllib.parse import urlparse\n",
    "\n",
    "import requests\n",
    "\n",
    "from pydantic import HttpUrl, TypeAdapter\n",
    "\n",
    "reps = 7\n",
    "number = 100\n",
    "r = requests.get('https://api.github.com/emojis')\n",
    "r.raise_for_status()\n",
    "emojis_json = r.content\n",
    "\n",
    "\n",
    "def emojis_pure_python(raw_data):\n",
    "    data = json.loads(raw_data)\n",
    "    output = {}\n",
    "    for key, value in data.items():\n",
    "        assert isinstance(key, str)\n",
    "        url = urlparse(value)\n",
    "        assert url.scheme in ('https', 'http')\n",
    "        output[key] = url\n",
    "\n",
    "\n",
    "emojis_pure_python_times = timeit.repeat(\n",
    "    'emojis_pure_python(emojis_json)',\n",
    "    globals={\n",
    "        'emojis_pure_python': emojis_pure_python,\n",
    "        'emojis_json': emojis_json,\n",
    "    },\n",
    "    repeat=reps,\n",
    "    number=number,\n",
    ")\n",
    "print(f'pure python: {min(emojis_pure_python_times) / number * 1000:0.2f}ms')\n",
    "\n",
    "type_adapter = TypeAdapter(dict[str, HttpUrl])\n",
    "emojis_pydantic_times = timeit.repeat(\n",
    "    'type_adapter.validate_json(emojis_json)',\n",
    "    globals={\n",
    "        'type_adapter': type_adapter,\n",
    "        'HttpUrl': HttpUrl,\n",
    "        'emojis_json': emojis_json,\n",
    "    },\n",
    "    repeat=reps,\n",
    "    number=number,\n",
    ")\n",
    "print(f'pydantic: {min(emojis_pydantic_times) / number * 1000:0.2f}ms')\n",
    "\n",
    "print(f'Pydantic {min(emojis_pure_python_times) / min(emojis_pydantic_times):0.2f}x faster')"
   ]
  },
  {
   "cell_type": "markdown",
   "metadata": {},
   "source": [
    "**More information about TypeAdapter: https://docs.pydantic.dev/latest/concepts/type_adapter/**"
   ]
  },
  {
   "cell_type": "code",
   "execution_count": null,
   "metadata": {},
   "outputs": [],
   "source": []
  }
 ],
 "metadata": {
  "kernelspec": {
   "display_name": "Python 3 (ipykernel)",
   "language": "python",
   "name": "python3"
  },
  "language_info": {
   "codemirror_mode": {
    "name": "ipython",
    "version": 3
   },
   "file_extension": ".py",
   "mimetype": "text/x-python",
   "name": "python",
   "nbconvert_exporter": "python",
   "pygments_lexer": "ipython3",
   "version": "3.9.19"
  }
 },
 "nbformat": 4,
 "nbformat_minor": 4
}
