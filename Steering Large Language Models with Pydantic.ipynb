{
 "cells": [
  {
   "cell_type": "markdown",
   "id": "a285f05b",
   "metadata": {},
   "source": [
    "#### In this notebook, we will discuss validating structured outputs from language models using Pydantic and OpenAI. \n",
    "\n",
    "#### We'll also introduce a  library called instructor that simplifies this process and offers extra features to leverage validation to improve the quality of your outputs."
   ]
  },
  {
   "cell_type": "markdown",
   "id": "72a40543",
   "metadata": {},
   "source": [
    "While some have resorted to threatening human life to generate structured data (https://twitter.com/goodside/status/1657396491676164096?s=20), Pydantic is even more effective.\n"
   ]
  },
  {
   "cell_type": "markdown",
   "id": "1a95c06a",
   "metadata": {},
   "source": [
    "### Pydantic\n",
    "Unlike libraries like dataclasses, Pydantic goes a step further and defines a schema for your dataclass. This schema is used to validate data, but also to generate documentation and even to generate a JSON schema, which is perfect for our use case of generating structured data with language models."
   ]
  },
  {
   "cell_type": "code",
   "execution_count": null,
   "id": "b89c720d",
   "metadata": {},
   "outputs": [],
   "source": [
    "import os\n",
    "from dotenv import load_dotenv, find_dotenv\n",
    "from pydantic import BaseModel\n",
    "from openai import AzureOpenAI\n",
    "\n",
    "load_dotenv(find_dotenv())\n",
    "\n",
    "client = AzureOpenAI(\n",
    "    api_key=os.environ.get(\"AZURE_OPENAI_API_KEY\"),\n",
    "    api_version=os.environ.get(\"OPENAI_API_VERSION\"),\n",
    "    azure_endpoint=os.environ.get(\"OPENAI_API_BASE\"),\n",
    "    timeout=10.0,\n",
    "    max_retries=10\n",
    ")\n",
    "\n",
    "\n",
    "class PythonPackage(BaseModel):\n",
    "    name: str\n",
    "    author: str\n",
    "        \n",
    "# By providing the model with the following prompt, we can generate a JSON schema for a PythonPackage dataclass.\n",
    "\n",
    "resp = client.chat.completions.create(\n",
    "    model=\"gpt35-turbo-16k-product-dev\",\n",
    "    messages=[\n",
    "        {\n",
    "            \"role\": \"user\",\n",
    "            \"content\": \"Return the `name`, and `author` of pydantic, in a json object.\"\n",
    "        },\n",
    "    ]\n",
    ")\n",
    "PythonPackage.model_validate_json(resp.choices[0].message.content)"
   ]
  },
  {
   "cell_type": "markdown",
   "id": "8eba8084",
   "metadata": {},
   "source": [
    "If there is an issue, resp.choices[0].message.content could include text or code blocks in prose or markdown format that we need to handle appropriately."
   ]
  },
  {
   "cell_type": "markdown",
   "id": "873f531b",
   "metadata": {},
   "source": [
    "#### LLM responses with markdown code blocks"
   ]
  },
  {
   "cell_type": "code",
   "execution_count": null,
   "id": "9cf2cc8b",
   "metadata": {},
   "outputs": [],
   "source": [
    "import json\n",
    "\n",
    "json.loads(\"\"\"```json{\"name\": \"pydantic\", \"author\": \"Samuel Colvin\"}```\"\"\")"
   ]
  },
  {
   "cell_type": "markdown",
   "id": "14127210",
   "metadata": {},
   "source": [
    "#### LLM responses with prose"
   ]
  },
  {
   "cell_type": "code",
   "execution_count": null,
   "id": "ac2cf338",
   "metadata": {},
   "outputs": [],
   "source": [
    "json.loads(\"\"\"\n",
    "Ok heres the authors of pydantic: Samuel Colvin, and the name this library\n",
    "\n",
    "{\n",
    "  \"name\": \"pydantic\",\n",
    "  \"author\": \"Samuel Colvin\"\n",
    "}\n",
    "\"\"\")"
   ]
  },
  {
   "cell_type": "code",
   "execution_count": null,
   "id": "ada0a5ce",
   "metadata": {},
   "outputs": [],
   "source": []
  }
 ],
 "metadata": {
  "kernelspec": {
   "display_name": "Python 3 (ipykernel)",
   "language": "python",
   "name": "python3"
  },
  "language_info": {
   "codemirror_mode": {
    "name": "ipython",
    "version": 3
   },
   "file_extension": ".py",
   "mimetype": "text/x-python",
   "name": "python",
   "nbconvert_exporter": "python",
   "pygments_lexer": "ipython3",
   "version": "3.8.18"
  }
 },
 "nbformat": 4,
 "nbformat_minor": 5
}
